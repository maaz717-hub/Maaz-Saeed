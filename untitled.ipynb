{
  "nbformat": 4,
  "nbformat_minor": 0,
  "metadata": {
    "colab": {
      "provenance": []
    },
    "kernelspec": {
      "name": "python3",
      "display_name": "Python 3"
    },
    "language_info": {
      "name": "python"
    }
  },
  "cells": [
    {
      "cell_type": "markdown",
      "source": [
        "1:Create a list of 5 favorite fruits and print each using a loop"
      ],
      "metadata": {
        "id": "VUNRB0NJq974"
      }
    },
    {
      "cell_type": "code",
      "execution_count": 2,
      "metadata": {
        "colab": {
          "base_uri": "https://localhost:8080/"
        },
        "id": "bX6MNBiDqTLJ",
        "outputId": "e3ab8ed7-d896-452d-ddc4-e3f3b149f209"
      },
      "outputs": [
        {
          "output_type": "stream",
          "name": "stdout",
          "text": [
            "apple\n",
            "mango\n",
            "oring\n",
            "bnana\n",
            "watermelon\n"
          ]
        }
      ],
      "source": [
        "fruits = ['apple' , 'mango' , 'oring' , 'banana' , 'watermelon']\n",
        "for fruits in fruits :\n",
        "  print(fruits)"
      ]
    },
    {
      "cell_type": "markdown",
      "source": [
        "2:Create a tuple with 3 items: name, age, and city. Access and print each"
      ],
      "metadata": {
        "id": "hOLAVJj5sH7A"
      }
    },
    {
      "cell_type": "code",
      "source": [
        "my_tuple = (\"Muaaz\" , 19 , \"gujranwala\")\n",
        "print(\"name:\", my_tuple[0])\n",
        "print(\"age:\", my_tuple[1])\n",
        "print(\"city:\", my_tuple[2])"
      ],
      "metadata": {
        "colab": {
          "base_uri": "https://localhost:8080/"
        },
        "id": "R9ss6vN8sWQp",
        "outputId": "4175851e-a9cc-4752-b847-5990f09aadd5"
      },
      "execution_count": 11,
      "outputs": [
        {
          "output_type": "stream",
          "name": "stdout",
          "text": [
            "name: Sultan\n",
            "age: 22\n",
            "city: Gujranwala\n"
          ]
        }
      ]
    },
    {
      "cell_type": "markdown",
      "source": [
        "3:Make a dictionary with student name, class, and score. Print keys and values"
      ],
      "metadata": {
        "id": "XAiREDxyvzGE"
      }
    },
    {
      "cell_type": "code",
      "source": [
        "my_dict = {\n",
        "    \"name\" : \"Maaz\",\n",
        "    \"age\" : 19,\n",
        "    \"city\" : \"gujranwala\"\n",
        "}\n",
        "print(my_dict)"
      ],
      "metadata": {
        "colab": {
          "base_uri": "https://localhost:8080/"
        },
        "id": "imeUHdQcvz7U",
        "outputId": "de699ef0-54a0-4b96-a910-96e5fa4c7cf3"
      },
      "execution_count": 14,
      "outputs": [
        {
          "output_type": "stream",
          "name": "stdout",
          "text": [
            "{'name': 'Maaz', 'age': 19, 'city': 'gujranwala'}\n"
          ]
        }
      ]
    },
    {
      "cell_type": "markdown",
      "source": [
        "4:Update the list by adding and removing items. Print the updated list"
      ],
      "metadata": {
        "id": "-9Ju0zYqx3Ff"
      }
    },
    {
      "cell_type": "code",
      "source": [
        "my_list = ['apple' , 'mango' , 'orange' , 'banana' , 'watermelon']\n",
        "my_list.remove('apple')\n",
        "my_list.append('apple')\n",
        "print(my_list)"
      ],
      "metadata": {
        "colab": {
          "base_uri": "https://localhost:8080/"
        },
        "id": "MSYm2LHlyIZq",
        "outputId": "b5c0ff67-3577-4a91-c9b5-04147203f88d"
      },
      "execution_count": 23,
      "outputs": [
        {
          "output_type": "stream",
          "name": "stdout",
          "text": [
            "['mango', 'orange', 'bnana', 'watermelon', 'apple']\n"
          ]
        }
      ]
    },
    {
      "cell_type": "markdown",
      "source": [
        "5:Use a loop to count items in the list and print using len()"
      ],
      "metadata": {
        "id": "nX9GwLYp0xmG"
      }
    },
    {
      "cell_type": "code",
      "source": [
        "Items = ['apple' , 'mango' , 'orange' , 'banana' , 'watermelon']\n",
        "count = 0\n",
        "for Item in Items :\n",
        "  count += 1\n",
        "print(\"count using loop:\", count)\n",
        "print(\"count using len():\", len(Items))"
      ],
      "metadata": {
        "colab": {
          "base_uri": "https://localhost:8080/"
        },
        "id": "PFxPeCYv036i",
        "outputId": "83ec0a14-8a5d-45e1-a140-4cf6f5794ba1"
      },
      "execution_count": 28,
      "outputs": [
        {
          "output_type": "stream",
          "name": "stdout",
          "text": [
            "count using loop: 5\n",
            "count using len(): 5\n"
          ]
        }
      ]
    },
    {
      "cell_type": "markdown",
      "source": [
        "6:Check if a value exists in a tuple using in keyword"
      ],
      "metadata": {
        "id": "vFcAtw6G6ATy"
      }
    },
    {
      "cell_type": "code",
      "source": [
        "fruits = ['apple' , 'mango' , 'orange' , 'watermelon']\n",
        "if'apple' in fruits:\n",
        "  print(\"Yes! apple in the tuple\")\n",
        "else:\n",
        "  print(\"No!Not apple in the tuple\")\n"
      ],
      "metadata": {
        "colab": {
          "base_uri": "https://localhost:8080/"
        },
        "id": "vvfTvsSf6tM-",
        "outputId": "46c55b88-49e1-4ac2-f5e4-42f47e420c05"
      },
      "execution_count": 39,
      "outputs": [
        {
          "output_type": "stream",
          "name": "stdout",
          "text": [
            "Yes! apple in the tuple\n"
          ]
        }
      ]
    },
    {
      "cell_type": "markdown",
      "source": [
        "7:Add a new key-value pair to your dictionary and print the result"
      ],
      "metadata": {
        "id": "k7xW5G-c9EpA"
      }
    },
    {
      "cell_type": "code",
      "source": [
        "my_dict = {\n",
        "    \"name\" : \"Maaz\",\n",
        "    \"age\" : 19,\n",
        "    \"city\" : \"gujranwala\"\n",
        "}\n",
        "my_dict[\"Rool no\"] = \"1\"\n",
        "print(my_dict)"
      ],
      "metadata": {
        "colab": {
          "base_uri": "https://localhost:8080/"
        },
        "id": "CR3npOB39Kpt",
        "outputId": "3b901282-1827-4ec0-f3b9-178e570d4f39"
      },
      "execution_count": 40,
      "outputs": [
        {
          "output_type": "stream",
          "name": "stdout",
          "text": [
            "{'name': 'Maaz', 'age': 19, 'city': 'gujranwala', 'Rool no': '1'}\n"
          ]
        }
      ]
    },
    {
      "cell_type": "markdown",
      "source": [
        "8:Write a program that converts a list to a tuple and prints both"
      ],
      "metadata": {
        "id": "gRAX6gqI-W92"
      }
    },
    {
      "cell_type": "code",
      "source": [
        "fruits = ['apple' , 'mango' , 'oring' , 'banana' , 'watermelon']\n",
        "fruits_tuple = tuple(fruits)\n",
        "print(list(fruits))\n",
        "print(fruits_tuple)"
      ],
      "metadata": {
        "colab": {
          "base_uri": "https://localhost:8080/"
        },
        "id": "Qbyxxjo5-dl7",
        "outputId": "49ab67d5-ef23-4353-f0d9-f54da94a533c"
      },
      "execution_count": 41,
      "outputs": [
        {
          "output_type": "stream",
          "name": "stdout",
          "text": [
            "['apple', 'mango', 'oring', 'banana', 'watermelon']\n",
            "('apple', 'mango', 'oring', 'banana', 'watermelon')\n"
          ]
        }
      ]
    },
    {
      "cell_type": "markdown",
      "source": [
        "9:Create a dictionary of 3 students with marks. Print names who scored > 80"
      ],
      "metadata": {
        "id": "1ADenG2qN0NR"
      }
    },
    {
      "cell_type": "code",
      "source": [
        "students = {\n",
        "    \"Ali\" : 50,\n",
        "    \"subhan\" : 65,\n",
        "    \"umair\" : 90\n",
        "}\n",
        "print(\"students with marks > 80:\")\n",
        "for name, marks in students.items():\n",
        "   if marks > 80:\n",
        "      print(name)"
      ],
      "metadata": {
        "colab": {
          "base_uri": "https://localhost:8080/"
        },
        "id": "pxMgGu49OMg_",
        "outputId": "1c78dcc8-8008-4887-fd38-4327502e44a1"
      },
      "execution_count": 48,
      "outputs": [
        {
          "output_type": "stream",
          "name": "stdout",
          "text": [
            "students with marks > 80:\n",
            "umair\n"
          ]
        }
      ]
    }
  ]
}